{
 "cells": [
  {
   "cell_type": "code",
   "execution_count": 50,
   "metadata": {},
   "outputs": [
    {
     "data": {
      "image/png": "[encoded data removed]",
      "text/plain": [
       "<Figure size 432x288 with 1 Axes>"
      ]
     },
     "metadata": {
      "needs_background": "light"
     },
     "output_type": "display_data"
    },
    {
     "data": {
      "text/plain": [
       "array([ 4.05482599,  2.13060921,  4.5190967 , ..., -4.79670469,\n",
       "       -1.24313188, 14.6140592 ])"
      ]
     },
     "execution_count": 50,
     "metadata": {},
     "output_type": "execute_result"
    }
   ],
   "source": [
    "import numpy as np\n",
    "import matplotlib.pyplot as plt\n",
    "\n",
    "mu, sigma, n = 3, 8, 10000\n",
    "sampling = np.random.normal(mu, sigma, n)\n",
    "\n",
    "\n",
    "count, bins, ignored = plt.hist(sampling, 30, density=True)\n",
    "plt.plot(bins, 1/(sigma * np.sqrt(2 * np.pi)) *\n",
    "               np.exp( - (bins - mu)**2 / (2 * sigma**2) ),\n",
    "         linewidth=2, color='r')\n",
    "plt.ylabel(\"pdf\")\n",
    "plt.xlabel(\"value\")\n",
    "plt.show()\n",
    "\n",
    "sampling"
   ]
  },
  {
   "cell_type": "code",
   "execution_count": 51,
   "metadata": {},
   "outputs": [
    {
     "name": "stdout",
     "output_type": "stream",
     "text": [
      "mu\n",
      "2.8784607748950903\n",
      "-5\n",
      "tau\n",
      "0.0001999996000008\n",
      "100\n",
      "ybar 2.87847653181664\n"
     ]
    }
   ],
   "source": [
    "def posterior(arr, mu0, tau0, var):\n",
    "    ybar = np.mean(arr)\n",
    "    n = len(arr)\n",
    "    \n",
    "    up_mu = ((1/tau0)*mu0) + (n/var)*ybar\n",
    "    down_mu = (1/tau0) + (n/var) \n",
    "    mu_n = up_mu/down_mu\n",
    "    \n",
    "    tau_n_inv = (1/tau0) + (n/var)\n",
    "    tau_n = 1/tau_n_inv\n",
    "    return mu_n,tau_n\n",
    "\n",
    "# Prior distribution of theta\n",
    "mu0, tau0 = -5, 100\n",
    "# assume variance of sampling distribution\n",
    "var = 2\n",
    "mu_n, tau_n = posterior(sampling, mu0, tau0, var)\n",
    "print('mu')\n",
    "print(mu_n)\n",
    "print(mu0)\n",
    "print('tau')\n",
    "print(tau_n)\n",
    "print(tau0)\n",
    "print(f\"ybar {np.mean(sampling)}\")"
   ]
  }
 ],
 "metadata": {
  "kernelspec": {
   "display_name": "Python 3",
   "language": "python",
   "name": "python3"
  },
  "language_info": {
   "codemirror_mode": {
    "name": "ipython",
    "version": 3
   },
   "file_extension": ".py",
   "mimetype": "text/x-python",
   "name": "python",
   "nbconvert_exporter": "python",
   "pygments_lexer": "ipython3",
   "version": "3.7.6"
  }
 },
 "nbformat": 4,
 "nbformat_minor": 4
}
