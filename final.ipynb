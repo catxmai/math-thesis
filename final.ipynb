{
 "cells": [
  {
   "cell_type": "code",
   "execution_count": 57,
   "metadata": {},
   "outputs": [
    {
     "name": "stdout",
     "output_type": "stream",
     "text": [
      "hi"
     ]
    }
   ],
   "source": [
    "# Question 7 \n",
    "\n",
    "import random\n",
    "import math\n",
    "import numpy as np\n",
    "\n",
    "n = 15\n",
    "C = 1235\n",
    "TRANSITIONS = 1000000\n",
    "WARMUP = TRANSITIONS * .001\n",
    "x1 = [x for x in range(1,n+1)]\n",
    "x2 = [1, 4, 3, 2, 5, 6, 7, 8, 9, 10, 11, 12, 13, 14, 15]\n",
    "watch_states =  [[1, 2, 3, 4, 5, 6, 7, 8, 9, 10, 11, 12, 13, 14, 15],\n",
    "                 [2, 3, 1, 5, 4, 6, 7, 8, 9, 10, 11, 12, 13, 14, 15],\n",
    "                 [1, 2, 3, 4, 5, 6, 7, 8, 9, 10, 11, 12, 15, 14, 13],\n",
    "                 [1, 2, 3, 4, 5, 6, 7, 8, 11, 10, 9, 12, 13, 14, 15],\n",
    "                 [1, 2, 3, 4, 5, 6, 7, 8, 9, 10, 11, 12, 15, 13, 14],\n",
    "                 [2, 3, 1, 4, 5, 6, 7, 8, 9, 10, 11, 12, 13, 14, 15],\n",
    "                 [2, 1, 3, 5, 4, 6, 7, 8, 9, 10, 11, 12, 13, 14, 15],\n",
    "                 [1, 4, 2, 3, 5, 6, 7, 8, 9, 10, 11, 12, 13, 14, 15],\n",
    "                 [1, 3, 4, 2, 5, 6, 7, 8, 9, 10, 11, 12, 13, 14, 15],\n",
    "                 [1, 4, 3, 2, 5, 6, 7, 8, 9, 10, 11, 12, 13, 14, 15],\n",
    "                 [1, 2, 3, 4, 5, 6, 7, 8, 10, 9, 11, 12, 13, 14, 15]]\n",
    "\n",
    "def isInL(x):\n",
    "    c = sum([k*v for k,v in enumerate(x, start=1)])\n",
    "    return c > C\n",
    "\n",
    "def swap(x, r, s):\n",
    "    x_swapped = [i for i in x]\n",
    "    x_swapped[r-1] = x_swapped[s-1]\n",
    "    x_swapped[s-1] = x[r-1]\n",
    "    return x_swapped\n",
    "\n",
    "def deg(x):\n",
    "    # generate neighbors\n",
    "    nbrs_list = []\n",
    "    for i in range(n):\n",
    "        for j in range(i+1, n):\n",
    "            nbr = swap(x, i, j)\n",
    "            nbrs_list.append(nbr)\n",
    "            \n",
    "    # check how many neighbors are in L\n",
    "    degree = 0\n",
    "    proper_nbrs = []\n",
    "    for nbr in nbrs_list:\n",
    "        if (isInL(nbr)):\n",
    "            degree += 1\n",
    "            proper_nbrs.append(nbr)\n",
    "    # print(proper_nbrs)\n",
    "    return degree\n",
    "    \n",
    "            \n",
    "# Algorithm\n",
    "x_n = [x for x in x2]\n",
    "enter_count = 0\n",
    "\n",
    "for i in range(TRANSITIONS):\n",
    "    print(x_n)\n",
    "    CURRENT_X = [x for x in x_n]\n",
    "    x_prime = [0]*n\n",
    "    while not isInL(x_prime):\n",
    "        r = random.randint(1, n)\n",
    "        s = random.randint(1, n)\n",
    "        while (s == r):\n",
    "            s = random.randint(1,n)\n",
    "        x_prime = swap(x_n, r, s)\n",
    "    \n",
    "    if deg(x_n) >= deg(x_prime):\n",
    "        x_n = [x for x in x_prime]\n",
    "    else:\n",
    "        u = random.uniform(0,1)\n",
    "        if u < (deg(x_n)/deg(x_prime)):\n",
    "            x_n = [x for x in x_prime]\n",
    "        else:\n",
    "            x_n = [x for x in CURRENT_X]\n",
    "    \n",
    "    if (i > WARMUP):\n",
    "        for xs in watch_states:\n",
    "            if x_n == xs:\n",
    "                enter_count += 1\n",
    "print(f\"Number of enters in watched states: {enter_count}\")"
   ]
  },
  {
   "cell_type": "code",
   "execution_count": 60,
   "metadata": {},
   "outputs": [
    {
     "data": {
      "text/plain": [
       "7.130524798679154e-11"
      ]
     },
     "execution_count": 60,
     "metadata": {},
     "output_type": "execute_result"
    }
   ],
   "source": [
    "((100000*11)/11797)/math.factorial(15)"
   ]
  },
  {
   "cell_type": "code",
   "execution_count": 18,
   "metadata": {},
   "outputs": [
    {
     "data": {
      "image/png": "[encoded data removed]",
      "text/plain": [
       "<Figure size 432x288 with 1 Axes>"
      ]
     },
     "metadata": {
      "needs_background": "light"
     },
     "output_type": "display_data"
    },
    {
     "data": {
      "text/plain": [
       "Counter({8: 652848,\n",
       "         4: 1756971,\n",
       "         6: 1463197,\n",
       "         5: 1752261,\n",
       "         9: 361285,\n",
       "         7: 1044497,\n",
       "         10: 181170,\n",
       "         3: 1403572,\n",
       "         13: 13037,\n",
       "         2: 842193,\n",
       "         11: 83061,\n",
       "         0: 67335,\n",
       "         1: 337294,\n",
       "         12: 34278,\n",
       "         14: 4750,\n",
       "         15: 1544,\n",
       "         16: 516,\n",
       "         17: 142,\n",
       "         18: 32,\n",
       "         20: 5,\n",
       "         19: 12})"
      ]
     },
     "execution_count": 18,
     "metadata": {},
     "output_type": "execute_result"
    }
   ],
   "source": [
    "# Quesiton 3 - Part a\n",
    "from collections import Counter\n",
    "s = np.random.poisson(5, 10000000)\n",
    "import matplotlib.pyplot as plt\n",
    "count, bins, ignored = plt.hist(s, 20, density=True)\n",
    "plt.show()\n",
    "Counter(s)"
   ]
  },
  {
   "cell_type": "code",
   "execution_count": 56,
   "metadata": {},
   "outputs": [
    {
     "data": {
      "text/plain": [
       "0.018117"
      ]
     },
     "execution_count": 56,
     "metadata": {},
     "output_type": "execute_result"
    }
   ],
   "source": [
    "181170/ 10000000"
   ]
  },
  {
   "cell_type": "code",
   "execution_count": 55,
   "metadata": {},
   "outputs": [
    {
     "data": {
      "text/plain": [
       "0.1162"
      ]
     },
     "execution_count": 55,
     "metadata": {},
     "output_type": "execute_result"
    }
   ],
   "source": [
    "# Quesiton 3 - Part b\n",
    "import random\n",
    "SIMULATIONS = 100000\n",
    "count = 0\n",
    "for i in range(SIMULATIONS):\n",
    "    t = 0\n",
    "    for i in range(1,5):\n",
    "       t += random.expovariate(5)\n",
    "    if t > 6/7 and t <= 7/7:\n",
    "        count += 1\n",
    "count/SIMULATIONS"
   ]
  }
 ],
 "metadata": {
  "kernelspec": {
   "display_name": "Python 3",
   "language": "python",
   "name": "python3"
  },
  "language_info": {
   "codemirror_mode": {
    "name": "ipython",
    "version": 3
   },
   "file_extension": ".py",
   "mimetype": "text/x-python",
   "name": "python",
   "nbconvert_exporter": "python",
   "pygments_lexer": "ipython3",
   "version": "3.7.6"
  }
 },
 "nbformat": 4,
 "nbformat_minor": 4
}
