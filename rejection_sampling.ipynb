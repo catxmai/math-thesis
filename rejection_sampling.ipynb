{
 "cells": [
  {
   "cell_type": "code",
   "execution_count": 9,
   "metadata": {},
   "outputs": [
    {
     "data": {
      "image/png": "[encoded data removed]",
      "text/plain": [
       "<Figure size 432x288 with 1 Axes>"
      ]
     },
     "metadata": {
      "needs_background": "light"
     },
     "output_type": "display_data"
    }
   ],
   "source": [
    "import math\n",
    "import scipy.optimize as opt\n",
    "import numpy as np\n",
    "import matplotlib.pyplot as plt\n",
    "\n",
    "def f(x,alpha,beta):\n",
    "    return (x**(alpha-1))*((1-x)**(beta-1))/beta_function(alpha,beta)\n",
    "    \n",
    "def beta_function(alpha,beta):\n",
    "    return math.factorial(alpha-1)*math.factorial(beta-1)/math.factorial(alpha+beta-1)\n",
    "\n",
    "\n",
    "def g(x):\n",
    "    return 1/(b-a)\n",
    "\n",
    "def rejection_sampling_beta(n):\n",
    "    accepts = []\n",
    "    for i in range(n+1):\n",
    "        u = np.random.uniform(a,b,1)[0]\n",
    "        t = np.random.uniform(a,b,1)[0]\n",
    "        importance_ratio = f(u,alpha,beta)/(M*g(u))\n",
    "        if importance_ratio > 1:\n",
    "            raise ValueError(\"importance ratio exceeds 1\")\n",
    "        \n",
    "        if t<importance_ratio:\n",
    "            accepts.append(u)\n",
    "    return accepts\n",
    "\n",
    "if __name__ == \"__main__\":\n",
    "    alpha = 5\n",
    "    beta = 14\n",
    "    a = 0 #interval start\n",
    "    b = 1 #interval end\n",
    "    max_x = opt.fmin(lambda x: -f(x,alpha,beta), 0, disp=False)\n",
    "    M = math.ceil(f(max_x[0],alpha,beta)/g(1))\n",
    "    n = 100000\n",
    "    \n",
    "    x = np.random.uniform(a,b,n)\n",
    "    y = [f(i,alpha,beta) for i in x]\n",
    "    accepts = rejection_sampling_beta(n)\n",
    "    plt.scatter(x,y, color='r',alpha=.1)\n",
    "    plt.scatter(accepts, [f(i,alpha,beta) for i in accepts])\n",
    "    plt.xlim((0,1))\n",
    "\n",
    "    np.mean(accepts)-(5/19)"
   ]
  },
  {
   "cell_type": "code",
   "execution_count": 12,
   "metadata": {
    "scrolled": true
   },
   "outputs": [
    {
     "data": {
      "image/png": "[encoded data removed]",
      "text/plain": [
       "<Figure size 432x288 with 1 Axes>"
      ]
     },
     "metadata": {
      "needs_background": "light"
     },
     "output_type": "display_data"
    }
   ],
   "source": [
    "# e^-x is decreasing on [0,2]\n",
    "\n",
    "import math\n",
    "import scipy.optimize as opt\n",
    "import numpy as np\n",
    "import matplotlib.pyplot as plt\n",
    "\n",
    "def f(x):\n",
    "    if x>0 and x<1:\n",
    "        return x\n",
    "    if x>1:\n",
    "        return 1/(2*x**2)\n",
    "    return 0\n",
    "    \n",
    "\n",
    "def g(x):\n",
    "    return math.e**-x\n",
    "\n",
    "def rejection_sampling(n, M, intv_start, intv_end, f=f, g=g):\n",
    "    accepts = []\n",
    "    for i in range(n+1):\n",
    "        u = np.random.uniform(intv_start,intv_end,1)[0]\n",
    "        t = np.random.uniform(intv_start,intv_end,1)[0]\n",
    "        importance_ratio = f(u)/(M*g(u))\n",
    "        if importance_ratio > 1:\n",
    "            raise ValueError(\"importance ratio exceeds 1\")\n",
    "        \n",
    "        if t<importance_ratio:\n",
    "            accepts.append(u)\n",
    "    return accepts\n",
    "\n",
    "if __name__ == \"__main__\":\n",
    "    a = 0 #interval start\n",
    "    b = 2 #interval end\n",
    "    M = math.ceil(1/g(b))\n",
    "    n = 1000\n",
    "    \n",
    "    x = np.random.uniform(a,b,n)\n",
    "    y = [f(i) for i in x]\n",
    "    accepts = rejection_sampling(n, M, a, b)\n",
    "    plt.scatter(x,y, color='r',alpha=.1)\n",
    "    plt.scatter(accepts, [f(i) for i in accepts])\n",
    "    plt.xlim((0,2))\n",
    "    len(accepts)"
   ]
  }
 ],
 "metadata": {
  "kernelspec": {
   "display_name": "Python 3",
   "language": "python",
   "name": "python3"
  },
  "language_info": {
   "codemirror_mode": {
    "name": "ipython",
    "version": 3
   },
   "file_extension": ".py",
   "mimetype": "text/x-python",
   "name": "python",
   "nbconvert_exporter": "python",
   "pygments_lexer": "ipython3",
   "version": "3.7.6"
  }
 },
 "nbformat": 4,
 "nbformat_minor": 4
}
